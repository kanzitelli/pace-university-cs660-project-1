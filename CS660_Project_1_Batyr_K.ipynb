{
 "cells": [
  {
   "cell_type": "code",
   "execution_count": 194,
   "metadata": {
    "collapsed": false
   },
   "outputs": [
    {
     "name": "stdout",
     "output_type": "stream",
     "text": [
      "Nasdaq Traded                                  True\n",
      "Security Name       Amazon.com, Inc. - Common Stock\n",
      "Listing Exchange                                  Q\n",
      "Market Category                                   Q\n",
      "ETF                                           False\n",
      "Round Lot Size                                  100\n",
      "Test Issue                                    False\n",
      "Financial Status                                  N\n",
      "CQS Symbol                                      NaN\n",
      "NASDAQ Symbol                                  AMZN\n",
      "NextShares                                    False\n",
      "Name: AMZN, dtype: object\n"
     ]
    }
   ],
   "source": [
    "from pandas_datareader.nasdaq_trader import get_nasdaq_symbols\n",
    "from pandas_datareader import data\n",
    "import pandas as pd\n",
    "import numpy as np\n",
    "import matplotlib.pyplot as plt\n",
    "import seaborn as sbn\n",
    "import datetime\n",
    "import math\n",
    "\n",
    "symbols = get_nasdaq_symbols()\n",
    "print(symbols.ix['AMZN'])"
   ]
  },
  {
   "cell_type": "code",
   "execution_count": 127,
   "metadata": {
    "collapsed": false
   },
   "outputs": [
    {
     "data": {
      "text/html": [
       "<div>\n",
       "<table border=\"1\" class=\"dataframe\">\n",
       "  <thead>\n",
       "    <tr style=\"text-align: right;\">\n",
       "      <th></th>\n",
       "      <th>NASDAQ Symbol</th>\n",
       "      <th>Security Name</th>\n",
       "      <th>Listing Exchange</th>\n",
       "    </tr>\n",
       "    <tr>\n",
       "      <th>Symbol</th>\n",
       "      <th></th>\n",
       "      <th></th>\n",
       "      <th></th>\n",
       "    </tr>\n",
       "  </thead>\n",
       "  <tbody>\n",
       "    <tr>\n",
       "      <th>A</th>\n",
       "      <td>A</td>\n",
       "      <td>Agilent Technologies, Inc. Common Stock</td>\n",
       "      <td>New York Stock Exchange (NYSE)</td>\n",
       "    </tr>\n",
       "    <tr>\n",
       "      <th>AA</th>\n",
       "      <td>AA</td>\n",
       "      <td>Alcoa Corporation Common Stock</td>\n",
       "      <td>New York Stock Exchange (NYSE)</td>\n",
       "    </tr>\n",
       "    <tr>\n",
       "      <th>AAAP</th>\n",
       "      <td>AAAP</td>\n",
       "      <td>Advanced Accelerator Applications S.A. - Ameri...</td>\n",
       "      <td>Q - NASDAQ?</td>\n",
       "    </tr>\n",
       "    <tr>\n",
       "      <th>AABA</th>\n",
       "      <td>AABA</td>\n",
       "      <td>Altaba Inc. - Common Stock</td>\n",
       "      <td>Q - NASDAQ?</td>\n",
       "    </tr>\n",
       "    <tr>\n",
       "      <th>AAC</th>\n",
       "      <td>AAC</td>\n",
       "      <td>AAC Holdings, Inc. Common Stock</td>\n",
       "      <td>New York Stock Exchange (NYSE)</td>\n",
       "    </tr>\n",
       "  </tbody>\n",
       "</table>\n",
       "</div>"
      ],
      "text/plain": [
       "       NASDAQ Symbol                                      Security Name  \\\n",
       "Symbol                                                                    \n",
       "A                  A            Agilent Technologies, Inc. Common Stock   \n",
       "AA                AA                    Alcoa Corporation Common Stock    \n",
       "AAAP            AAAP  Advanced Accelerator Applications S.A. - Ameri...   \n",
       "AABA            AABA                         Altaba Inc. - Common Stock   \n",
       "AAC              AAC                    AAC Holdings, Inc. Common Stock   \n",
       "\n",
       "                      Listing Exchange  \n",
       "Symbol                                  \n",
       "A       New York Stock Exchange (NYSE)  \n",
       "AA      New York Stock Exchange (NYSE)  \n",
       "AAAP                       Q - NASDAQ?  \n",
       "AABA                       Q - NASDAQ?  \n",
       "AAC     New York Stock Exchange (NYSE)  "
      ]
     },
     "execution_count": 127,
     "metadata": {},
     "output_type": "execute_result"
    }
   ],
   "source": [
    "# #1 \n",
    "list_of_traded_corps = symbols.loc[:, ['NASDAQ Symbol', 'Security Name', 'Listing Exchange']]\n",
    "\n",
    "# I have got this list from this link - http://www.nasdaqtrader.com/trader.aspx?id=symboldirdefs\n",
    "listing_exchange = { \n",
    "    'A': 'NYSE MKT',\n",
    "    'N': 'New York Stock Exchange (NYSE)',\n",
    "    'P': 'NYSE ARCA',\n",
    "    'Q': 'Q - NASDAQ?', # not sure about this one\n",
    "    'V': 'Investors\\' Exchange, LLC (IEXG)',\n",
    "    'Z': 'BATS Global Markets (BATS)'\n",
    "}\n",
    "\n",
    "list_of_traded_corps['Listing Exchange'] = list_of_traded_corps['Listing Exchange'].apply(lambda c: listing_exchange[c])\n",
    "list_of_traded_corps.head()"
   ]
  },
  {
   "cell_type": "code",
   "execution_count": 137,
   "metadata": {
    "collapsed": false
   },
   "outputs": [
    {
     "data": {
      "text/html": [
       "<div>\n",
       "<table border=\"1\" class=\"dataframe\">\n",
       "  <thead>\n",
       "    <tr style=\"text-align: right;\">\n",
       "      <th></th>\n",
       "      <th>AAPL</th>\n",
       "      <th>AMZN</th>\n",
       "      <th>GOOGL</th>\n",
       "      <th>IBM</th>\n",
       "    </tr>\n",
       "  </thead>\n",
       "  <tbody>\n",
       "    <tr>\n",
       "      <th>2016-01-04</th>\n",
       "      <td>101.790649</td>\n",
       "      <td>636.989990</td>\n",
       "      <td>759.440002</td>\n",
       "      <td>127.330009</td>\n",
       "    </tr>\n",
       "    <tr>\n",
       "      <th>2016-01-05</th>\n",
       "      <td>99.239845</td>\n",
       "      <td>633.789978</td>\n",
       "      <td>761.530029</td>\n",
       "      <td>127.236343</td>\n",
       "    </tr>\n",
       "    <tr>\n",
       "      <th>2016-01-06</th>\n",
       "      <td>97.297760</td>\n",
       "      <td>632.650024</td>\n",
       "      <td>759.330017</td>\n",
       "      <td>126.599449</td>\n",
       "    </tr>\n",
       "    <tr>\n",
       "      <th>2016-01-07</th>\n",
       "      <td>93.191338</td>\n",
       "      <td>607.940002</td>\n",
       "      <td>741.000000</td>\n",
       "      <td>124.435936</td>\n",
       "    </tr>\n",
       "    <tr>\n",
       "      <th>2016-01-08</th>\n",
       "      <td>93.684120</td>\n",
       "      <td>607.049988</td>\n",
       "      <td>730.909973</td>\n",
       "      <td>123.283920</td>\n",
       "    </tr>\n",
       "  </tbody>\n",
       "</table>\n",
       "</div>"
      ],
      "text/plain": [
       "                  AAPL        AMZN       GOOGL         IBM\n",
       "2016-01-04  101.790649  636.989990  759.440002  127.330009\n",
       "2016-01-05   99.239845  633.789978  761.530029  127.236343\n",
       "2016-01-06   97.297760  632.650024  759.330017  126.599449\n",
       "2016-01-07   93.191338  607.940002  741.000000  124.435936\n",
       "2016-01-08   93.684120  607.049988  730.909973  123.283920"
      ]
     },
     "execution_count": 137,
     "metadata": {},
     "output_type": "execute_result"
    }
   ],
   "source": [
    "# #2\n",
    "\n",
    "# tickers = list_of_traded_corps.loc[:, 'NASDAQ Symbol'].values # this takes a long time, so i decided to use a few tickers\n",
    "tickers = ['AAPL', 'AMZN', 'GOOGL', 'IBM']\n",
    "data_source = 'yahoo'\n",
    "\n",
    "date_2016 = (datetime.datetime(2016, 1, 1), datetime.datetime(2016, 12, 31))\n",
    "all_weekdays_2016 = pd.date_range(start = date_2016[0], end = date_2016[1], freq='B')\n",
    "\n",
    "data_2016 = data.DataReader(tickers, data_source, date_2016[0], date_2016[1])\n",
    "close_prices_2016 = data_2016.ix['Adj Close'].reindex(all_weekdays_2016).dropna()\n",
    "\n",
    "close_prices_2016.head()"
   ]
  },
  {
   "cell_type": "code",
   "execution_count": 84,
   "metadata": {
    "collapsed": false
   },
   "outputs": [],
   "source": [
    "# print(list_of_traded_corps[list_of_traded_corps['NASDAQ Symbol'].isin(tickers)])"
   ]
  },
  {
   "cell_type": "code",
   "execution_count": 91,
   "metadata": {
    "collapsed": false
   },
   "outputs": [
    {
     "data": {
      "text/html": [
       "<div>\n",
       "<table border=\"1\" class=\"dataframe\">\n",
       "  <thead>\n",
       "    <tr style=\"text-align: right;\">\n",
       "      <th></th>\n",
       "      <th>AAPL</th>\n",
       "      <th>AMZN</th>\n",
       "      <th>GOOGL</th>\n",
       "      <th>IBM</th>\n",
       "    </tr>\n",
       "  </thead>\n",
       "  <tbody>\n",
       "    <tr>\n",
       "      <th>2016-01-04</th>\n",
       "      <td>NaN</td>\n",
       "      <td>NaN</td>\n",
       "      <td>NaN</td>\n",
       "      <td>NaN</td>\n",
       "    </tr>\n",
       "    <tr>\n",
       "      <th>2016-01-05</th>\n",
       "      <td>-0.025059</td>\n",
       "      <td>-0.005024</td>\n",
       "      <td>0.002752</td>\n",
       "      <td>-0.000736</td>\n",
       "    </tr>\n",
       "    <tr>\n",
       "      <th>2016-01-06</th>\n",
       "      <td>-0.019570</td>\n",
       "      <td>-0.001799</td>\n",
       "      <td>-0.002889</td>\n",
       "      <td>-0.005006</td>\n",
       "    </tr>\n",
       "    <tr>\n",
       "      <th>2016-01-07</th>\n",
       "      <td>-0.042205</td>\n",
       "      <td>-0.039058</td>\n",
       "      <td>-0.024140</td>\n",
       "      <td>-0.017089</td>\n",
       "    </tr>\n",
       "    <tr>\n",
       "      <th>2016-01-08</th>\n",
       "      <td>0.005288</td>\n",
       "      <td>-0.001464</td>\n",
       "      <td>-0.013617</td>\n",
       "      <td>-0.009258</td>\n",
       "    </tr>\n",
       "  </tbody>\n",
       "</table>\n",
       "</div>"
      ],
      "text/plain": [
       "                AAPL      AMZN     GOOGL       IBM\n",
       "2016-01-04       NaN       NaN       NaN       NaN\n",
       "2016-01-05 -0.025059 -0.005024  0.002752 -0.000736\n",
       "2016-01-06 -0.019570 -0.001799 -0.002889 -0.005006\n",
       "2016-01-07 -0.042205 -0.039058 -0.024140 -0.017089\n",
       "2016-01-08  0.005288 -0.001464 -0.013617 -0.009258"
      ]
     },
     "execution_count": 91,
     "metadata": {},
     "output_type": "execute_result"
    }
   ],
   "source": [
    "# Relative returns\n",
    "returns = close_prices_2016.pct_change(1)\n",
    "returns.head()"
   ]
  },
  {
   "cell_type": "code",
   "execution_count": 119,
   "metadata": {
    "collapsed": false
   },
   "outputs": [
    {
     "data": {
      "text/html": [
       "<div>\n",
       "<table border=\"1\" class=\"dataframe\">\n",
       "  <thead>\n",
       "    <tr style=\"text-align: right;\">\n",
       "      <th></th>\n",
       "      <th>AAPL</th>\n",
       "      <th>AMZN</th>\n",
       "      <th>GOOGL</th>\n",
       "      <th>IBM</th>\n",
       "    </tr>\n",
       "  </thead>\n",
       "  <tbody>\n",
       "    <tr>\n",
       "      <th>2016-01-04</th>\n",
       "      <td>NaN</td>\n",
       "      <td>NaN</td>\n",
       "      <td>NaN</td>\n",
       "      <td>NaN</td>\n",
       "    </tr>\n",
       "    <tr>\n",
       "      <th>2016-01-05</th>\n",
       "      <td>-0.025379</td>\n",
       "      <td>-0.005036</td>\n",
       "      <td>0.002748</td>\n",
       "      <td>-0.000736</td>\n",
       "    </tr>\n",
       "    <tr>\n",
       "      <th>2016-01-06</th>\n",
       "      <td>-0.019764</td>\n",
       "      <td>-0.001800</td>\n",
       "      <td>-0.002893</td>\n",
       "      <td>-0.005018</td>\n",
       "    </tr>\n",
       "    <tr>\n",
       "      <th>2016-01-07</th>\n",
       "      <td>-0.043121</td>\n",
       "      <td>-0.039841</td>\n",
       "      <td>-0.024436</td>\n",
       "      <td>-0.017237</td>\n",
       "    </tr>\n",
       "    <tr>\n",
       "      <th>2016-01-08</th>\n",
       "      <td>0.005274</td>\n",
       "      <td>-0.001465</td>\n",
       "      <td>-0.013710</td>\n",
       "      <td>-0.009301</td>\n",
       "    </tr>\n",
       "  </tbody>\n",
       "</table>\n",
       "</div>"
      ],
      "text/plain": [
       "                AAPL      AMZN     GOOGL       IBM\n",
       "2016-01-04       NaN       NaN       NaN       NaN\n",
       "2016-01-05 -0.025379 -0.005036  0.002748 -0.000736\n",
       "2016-01-06 -0.019764 -0.001800 -0.002893 -0.005018\n",
       "2016-01-07 -0.043121 -0.039841 -0.024436 -0.017237\n",
       "2016-01-08  0.005274 -0.001465 -0.013710 -0.009301"
      ]
     },
     "execution_count": 119,
     "metadata": {},
     "output_type": "execute_result"
    }
   ],
   "source": [
    "log_returns = np.log(close_prices_2016).diff()\n",
    "log_returns.head()"
   ]
  },
  {
   "cell_type": "code",
   "execution_count": 100,
   "metadata": {
    "collapsed": false
   },
   "outputs": [
    {
     "data": {
      "text/html": [
       "<div>\n",
       "<table border=\"1\" class=\"dataframe\">\n",
       "  <thead>\n",
       "    <tr style=\"text-align: right;\">\n",
       "      <th></th>\n",
       "      <th>AAPL</th>\n",
       "      <th>AMZN</th>\n",
       "      <th>GOOGL</th>\n",
       "      <th>IBM</th>\n",
       "    </tr>\n",
       "  </thead>\n",
       "  <tbody>\n",
       "    <tr>\n",
       "      <th>count</th>\n",
       "      <td>252.000000</td>\n",
       "      <td>252.000000</td>\n",
       "      <td>252.000000</td>\n",
       "      <td>252.000000</td>\n",
       "    </tr>\n",
       "    <tr>\n",
       "      <th>mean</th>\n",
       "      <td>102.324489</td>\n",
       "      <td>699.523135</td>\n",
       "      <td>763.213214</td>\n",
       "      <td>143.980017</td>\n",
       "    </tr>\n",
       "    <tr>\n",
       "      <th>std</th>\n",
       "      <td>7.934424</td>\n",
       "      <td>92.362312</td>\n",
       "      <td>37.402048</td>\n",
       "      <td>12.581173</td>\n",
       "    </tr>\n",
       "    <tr>\n",
       "      <th>min</th>\n",
       "      <td>88.295753</td>\n",
       "      <td>482.070007</td>\n",
       "      <td>681.140015</td>\n",
       "      <td>111.505096</td>\n",
       "    </tr>\n",
       "    <tr>\n",
       "      <th>25%</th>\n",
       "      <td>94.631574</td>\n",
       "      <td>606.929993</td>\n",
       "      <td>730.487488</td>\n",
       "      <td>139.166096</td>\n",
       "    </tr>\n",
       "    <tr>\n",
       "      <th>50%</th>\n",
       "      <td>102.921017</td>\n",
       "      <td>727.875000</td>\n",
       "      <td>761.750000</td>\n",
       "      <td>146.068947</td>\n",
       "    </tr>\n",
       "    <tr>\n",
       "      <th>75%</th>\n",
       "      <td>108.938551</td>\n",
       "      <td>767.882492</td>\n",
       "      <td>799.865021</td>\n",
       "      <td>153.450955</td>\n",
       "    </tr>\n",
       "    <tr>\n",
       "      <th>max</th>\n",
       "      <td>116.200294</td>\n",
       "      <td>844.359985</td>\n",
       "      <td>835.739990</td>\n",
       "      <td>163.839554</td>\n",
       "    </tr>\n",
       "    <tr>\n",
       "      <th>min-max diff</th>\n",
       "      <td>27.904541</td>\n",
       "      <td>362.289978</td>\n",
       "      <td>154.599975</td>\n",
       "      <td>52.334458</td>\n",
       "    </tr>\n",
       "  </tbody>\n",
       "</table>\n",
       "</div>"
      ],
      "text/plain": [
       "                    AAPL        AMZN       GOOGL         IBM\n",
       "count         252.000000  252.000000  252.000000  252.000000\n",
       "mean          102.324489  699.523135  763.213214  143.980017\n",
       "std             7.934424   92.362312   37.402048   12.581173\n",
       "min            88.295753  482.070007  681.140015  111.505096\n",
       "25%            94.631574  606.929993  730.487488  139.166096\n",
       "50%           102.921017  727.875000  761.750000  146.068947\n",
       "75%           108.938551  767.882492  799.865021  153.450955\n",
       "max           116.200294  844.359985  835.739990  163.839554\n",
       "min-max diff   27.904541  362.289978  154.599975   52.334458"
      ]
     },
     "execution_count": 100,
     "metadata": {},
     "output_type": "execute_result"
    }
   ],
   "source": [
    "# #3\n",
    "desc = close_prices_2016.describe()\n",
    "desc.loc['min-max diff'] = desc.loc['max'] - desc.loc['min']\n",
    "\n",
    "desc\n",
    "\n",
    "# so here we can see that Amazon would be the most profitable option, and the worst one is Apple"
   ]
  },
  {
   "cell_type": "code",
   "execution_count": 196,
   "metadata": {
    "collapsed": false
   },
   "outputs": [],
   "source": [
    "aapl_amzn_dict = { 'AAPL': log_returns.AAPL, 'AMZN': log_returns.AMZN }\n",
    "AAPL_AMZN_log_returns = pd.DataFrame.from_dict(aapl_amzn_dict)\n",
    "\n",
    "# Let's apply the above:\n",
    "fig = plt.figure(figsize=[16,9])\n",
    "\n",
    "ax = fig.add_subplot(2,1,2)\n",
    "\n",
    "for c in AAPL_AMZN_log_returns:\n",
    "    ax.plot(AAPL_AMZN_log_returns.index, 100*(np.exp(AAPL_AMZN_log_returns[c].cumsum()) - 1), label=str(c))\n",
    "\n",
    "ax.set_ylabel('Total relative returns (%)')\n",
    "ax.legend(loc='best')\n",
    "ax.grid()"
   ]
  },
  {
   "cell_type": "code",
   "execution_count": 197,
   "metadata": {
    "collapsed": false
   },
   "outputs": [
    {
     "data": {
      "text/plain": [
       "<matplotlib.figure.Figure at 0x117238390>"
      ]
     },
     "metadata": {},
     "output_type": "display_data"
    },
    {
     "data": {
      "image/png": "[encoded data removed]",
      "text/plain": [
       "<matplotlib.figure.Figure at 0x111e91ad0>"
      ]
     },
     "metadata": {},
     "output_type": "display_data"
    }
   ],
   "source": [
    "plt.show()"
   ]
  },
  {
   "cell_type": "code",
   "execution_count": 207,
   "metadata": {
    "collapsed": false
   },
   "outputs": [
    {
     "data": {
      "image/png": "[encoded data removed]",
      "text/plain": [
       "<matplotlib.figure.Figure at 0x11aa84410>"
      ]
     },
     "metadata": {},
     "output_type": "display_data"
    }
   ],
   "source": [
    "# boxplot  (Box and Whisker plot)\n",
    "box = sbn.boxplot(x='AAPL', data=AAPL_AMZN_log_returns)\n",
    "box.set_title('Box plot for Apple')\n",
    "box.set_ylabel('Total relative returns (%)')\n",
    "\n",
    "plt.show()"
   ]
  },
  {
   "cell_type": "code",
   "execution_count": 209,
   "metadata": {
    "collapsed": false
   },
   "outputs": [
    {
     "data": {
      "image/png": "[encoded data removed]",
      "text/plain": [
       "<matplotlib.figure.Figure at 0x11aa66310>"
      ]
     },
     "metadata": {},
     "output_type": "display_data"
    }
   ],
   "source": [
    "# boxplot  (Box and Whisker plot)\n",
    "box = sbn.boxplot(x='AMZN', data=AAPL_AMZN_log_returns)\n",
    "box.set_title('Box plot for Amazon')\n",
    "box.set_ylabel('Total relative returns (%)')\n",
    "\n",
    "plt.show()"
   ]
  },
  {
   "cell_type": "code",
   "execution_count": 188,
   "metadata": {
    "collapsed": false
   },
   "outputs": [
    {
     "name": "stdout",
     "output_type": "stream",
     "text": [
      "1. Relative return for Apple = 12.11%\n",
      "2. Relative return for Amazon = 4.98%\n"
     ]
    }
   ],
   "source": [
    "# #4 $10k\n",
    "\n",
    "# 1. Apple - AAPL\n",
    "AAPL_p_01_01_2016 = 5000\n",
    "number_of_shares_start = math.floor(AAPL_p_01_01_2016 / close_prices_2016.AAPL[0])\n",
    "AAPL_p_12_31_2016 = number_of_shares_start * close_prices_2016.AAPL[-1]\n",
    "\n",
    "print \"1. Relative return for Apple = %.2f%%\" % ( (AAPL_p_12_31_2016 - AAPL_p_01_01_2016) / AAPL_p_01_01_2016 * 100 )\n",
    "\n",
    "# 2. Amazon - AMZN\n",
    "AMZN_p_01_01_2016 = 5000\n",
    "number_of_shares_start = math.floor(AMZN_p_01_01_2016 / close_prices_2016.AMZN[0])\n",
    "AMZN_p_12_31_2016 = number_of_shares_start * close_prices_2016.AMZN[-1]\n",
    "\n",
    "print \"2. Relative return for Amazon = %.2f%%\" % ( (AMZN_p_12_31_2016 - AMZN_p_01_01_2016) / AMZN_p_01_01_2016 * 100 )\n"
   ]
  },
  {
   "cell_type": "code",
   "execution_count": 208,
   "metadata": {
    "collapsed": false
   },
   "outputs": [
    {
     "name": "stdout",
     "output_type": "stream",
     "text": [
      "1. Relative return for Apple = 11.54%\n",
      "2. Relative return for Amazon = -0.02%\n",
      "3. Relative return for Google = -20.75%\n",
      "Our capital on the beginning of 2016 - $10.000. Our income for the end of 2016 = 9838.30\n"
     ]
    }
   ],
   "source": [
    "# #5 40% - AAPL, 30% - AMZN, 30% - GOOGL\n",
    "\n",
    "# 1. Apple - AAPL\n",
    "AAPL_p_01_01_2016 = 4000\n",
    "number_of_shares_start = math.floor(AAPL_p_01_01_2016 / close_prices_2016.AAPL[0])\n",
    "AAPL_p_12_31_2016 = number_of_shares_start * close_prices_2016.AAPL[-1]\n",
    "relative_return = (AAPL_p_12_31_2016 - AAPL_p_01_01_2016) / AAPL_p_01_01_2016 * 100\n",
    "\n",
    "print \"1. Relative return for Apple = %.2f%%\" % relative_return\n",
    "\n",
    "# 2. Amazon - AMZN\n",
    "AMZN_p_01_01_2016 = 3000\n",
    "number_of_shares_start = math.floor(AMZN_p_01_01_2016 / close_prices_2016.AMZN[0])\n",
    "AMZN_p_12_31_2016 = number_of_shares_start * close_prices_2016.AMZN[-1]\n",
    "relative_return = (AMZN_p_12_31_2016 - AMZN_p_01_01_2016) / AMZN_p_01_01_2016 * 100\n",
    "\n",
    "print \"2. Relative return for Amazon = %.2f%%\" % relative_return\n",
    "\n",
    "# 3. Google - GOOGL\n",
    "GOOGL_p_01_01_2016 = 3000\n",
    "number_of_shares_start = math.floor(GOOGL_p_01_01_2016 / close_prices_2016.GOOGL[0])\n",
    "GOOGL_p_12_31_2016 = number_of_shares_start * close_prices_2016.GOOGL[-1]\n",
    "relative_return = (GOOGL_p_12_31_2016 - GOOGL_p_01_01_2016) / GOOGL_p_01_01_2016 * 100\n",
    "\n",
    "print \"3. Relative return for Google = %.2f%%\" % relative_return\n",
    "\n",
    "total_income = AAPL_p_12_31_2016 + AMZN_p_12_31_2016 + GOOGL_p_12_31_2016\n",
    "print \"Our capital on the beginning of 2016 - $10.000. Our income for the end of 2016 = %.2f\" % total_income"
   ]
  }
 ],
 "metadata": {
  "anaconda-cloud": {},
  "kernelspec": {
   "display_name": "Python [conda root]",
   "language": "python",
   "name": "conda-root-py"
  },
  "language_info": {
   "codemirror_mode": {
    "name": "ipython",
    "version": 2
   },
   "file_extension": ".py",
   "mimetype": "text/x-python",
   "name": "python",
   "nbconvert_exporter": "python",
   "pygments_lexer": "ipython2",
   "version": "2.7.13"
  }
 },
 "nbformat": 4,
 "nbformat_minor": 1
}
